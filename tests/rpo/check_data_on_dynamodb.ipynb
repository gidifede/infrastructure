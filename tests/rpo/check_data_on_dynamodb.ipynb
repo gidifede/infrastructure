{
 "cells": [
  {
   "cell_type": "markdown",
   "id": "af175622",
   "metadata": {},
   "source": [
    "Import statement"
   ]
  },
  {
   "cell_type": "code",
   "execution_count": 228,
   "id": "70782ec3",
   "metadata": {},
   "outputs": [],
   "source": [
    "import numpy as np\n",
    "import boto3\n",
    "\n",
    "dynamodb = boto3.resource(\"dynamodb\")"
   ]
  },
  {
   "cell_type": "markdown",
   "id": "ef9f1019",
   "metadata": {},
   "source": [
    "Count how many row in Event Store"
   ]
  },
  {
   "cell_type": "code",
   "execution_count": 391,
   "id": "0b38fe14",
   "metadata": {},
   "outputs": [
    {
     "data": {
      "text/plain": [
       "1000"
      ]
     },
     "execution_count": 391,
     "metadata": {},
     "output_type": "execute_result"
    }
   ],
   "source": [
    "events_table = dynamodb.Table(\"marcostack-product_eventstore\")\n",
    "events_rows = events_table.scan()\n",
    "events_rows[\"Count\"]"
   ]
  },
  {
   "cell_type": "markdown",
   "id": "b9587197",
   "metadata": {},
   "source": [
    "Count how many rows in log inspector"
   ]
  },
  {
   "cell_type": "code",
   "execution_count": 392,
   "id": "6040df01",
   "metadata": {
    "scrolled": true
   },
   "outputs": [
    {
     "data": {
      "text/plain": [
       "1999"
      ]
     },
     "execution_count": 392,
     "metadata": {},
     "output_type": "execute_result"
    }
   ],
   "source": [
    "table = dynamodb.Table(\"marcostack-product-loginspector\")\n",
    "rows = table.scan()\n",
    "count = rows[\"Count\"]\n",
    "count"
   ]
  },
  {
   "cell_type": "markdown",
   "id": "b534d636",
   "metadata": {},
   "source": [
    "Aggregate logs by product id and use validator timestamp as start ts and handler as end ts"
   ]
  },
  {
   "cell_type": "code",
   "execution_count": 393,
   "id": "c1a2a26d",
   "metadata": {},
   "outputs": [
    {
     "name": "stdout",
     "output_type": "stream",
     "text": [
      "# of keys 999\n"
     ]
    }
   ],
   "source": [
    "items =rows[\"Items\"]\n",
    "d = {}\n",
    "for i in items:\n",
    "    x = d.get(i[\"request_id\"], {\"start_ts\": None, \"end_ts\": None})\n",
    "    if \"handler\" in i[\"lambda_function\"].lower():\n",
    "        x[\"end_ts\"] = i[\"timestamp\"]\n",
    "    else:\n",
    "        x[\"start_ts\"] = i[\"timestamp\"]\n",
    "    d.update({i[\"request_id\"]:x})\n",
    "\n",
    "d = dict(filter(lambda x:x[1].get(\"end_ts\", None) != None and x[1].get(\"start_ts\", None) != None, d.items()))\n",
    "print(\"# of keys\", len(d.keys()))\n",
    "intervals = [int(x[1][\"end_ts\"]) - int(x[1][\"start_ts\"]) for x in d.items()]"
   ]
  },
  {
   "cell_type": "code",
   "execution_count": 396,
   "id": "12f9c241",
   "metadata": {
    "scrolled": true
   },
   "outputs": [
    {
     "name": "stdout",
     "output_type": "stream",
     "text": [
      "AVG:  3025.3303303303305\n",
      "MAX:  4542\n",
      "MIN:  738\n"
     ]
    }
   ],
   "source": [
    "\n",
    "print(\"AVG: \", 0 if len(intervals) == 0 else sum(intervals)/len(intervals))\n",
    "print(\"MAX: \", 0 if not intervals else max(intervals))\n",
    "print(\"MIN: \", 0 if not intervals else min(intervals))"
   ]
  },
  {
   "cell_type": "code",
   "execution_count": 397,
   "id": "119a05de",
   "metadata": {
    "scrolled": true
   },
   "outputs": [
    {
     "name": "stdout",
     "output_type": "stream",
     "text": [
      "percentile 90 3452.4\n",
      "percentile 95 3599.199999999999\n",
      "percentile 99 4238.58\n"
     ]
    }
   ],
   "source": [
    "a = np.array(intervals)\n",
    "print(\"percentile 90\", np.percentile(a, 90))\n",
    "print(\"percentile 95\", np.percentile(a, 95))\n",
    "print(\"percentile 99\", np.percentile(a, 99))"
   ]
  },
  {
   "cell_type": "markdown",
   "id": "d48b10ba",
   "metadata": {},
   "source": [
    "DELETE ALL DATA"
   ]
  },
  {
   "cell_type": "code",
   "execution_count": 387,
   "id": "322248e1",
   "metadata": {},
   "outputs": [
    {
     "name": "stdout",
     "output_type": "stream",
     "text": [
      "Deleting...  2001\n"
     ]
    },
    {
     "data": {
      "text/plain": [
       "0"
      ]
     },
     "execution_count": 387,
     "metadata": {},
     "output_type": "execute_result"
    }
   ],
   "source": [
    "print(\"Deleting... \", rows[\"Count\"])\n",
    "with table.batch_writer() as batch:\n",
    "    for each in rows['Items']:\n",
    "        batch.delete_item(\n",
    "                 Key={\n",
    "                 'request_id': each['request_id'],\n",
    "                 'lambda_function': each['lambda_function']\n",
    "                 }\n",
    "             )\n",
    "table.scan()[\"Count\"]"
   ]
  },
  {
   "cell_type": "code",
   "execution_count": 388,
   "id": "9fa6763e",
   "metadata": {
    "scrolled": false
   },
   "outputs": [
    {
     "name": "stdout",
     "output_type": "stream",
     "text": [
      "Deleting...  1000\n"
     ]
    },
    {
     "data": {
      "text/plain": [
       "0"
      ]
     },
     "execution_count": 388,
     "metadata": {},
     "output_type": "execute_result"
    }
   ],
   "source": [
    "events_table = dynamodb.Table(\"marcostack-product_eventstore\")\n",
    "events_rows = events_table.scan()\n",
    "print(\"Deleting... \", events_rows[\"Count\"])\n",
    "with events_table.batch_writer() as batch:\n",
    "    for each in events_rows['Items']:\n",
    "        batch.delete_item(\n",
    "                 Key={\n",
    "                 'aggregate_id': each['aggregate_id'],\n",
    "                 'timestamp': each['timestamp']\n",
    "                 }\n",
    "             )\n",
    "        \n",
    "events_table.scan()[\"Count\"]"
   ]
  },
  {
   "cell_type": "code",
   "execution_count": null,
   "id": "5d3a0d7b",
   "metadata": {},
   "outputs": [],
   "source": []
  },
  {
   "cell_type": "code",
   "execution_count": null,
   "id": "6a223f30",
   "metadata": {},
   "outputs": [],
   "source": []
  },
  {
   "cell_type": "code",
   "execution_count": null,
   "id": "69070d10",
   "metadata": {},
   "outputs": [],
   "source": []
  },
  {
   "cell_type": "code",
   "execution_count": null,
   "id": "296f93fd",
   "metadata": {},
   "outputs": [],
   "source": []
  }
 ],
 "metadata": {
  "kernelspec": {
   "display_name": "Python 3 (ipykernel)",
   "language": "python",
   "name": "python3"
  },
  "language_info": {
   "codemirror_mode": {
    "name": "ipython",
    "version": 3
   },
   "file_extension": ".py",
   "mimetype": "text/x-python",
   "name": "python",
   "nbconvert_exporter": "python",
   "pygments_lexer": "ipython3",
   "version": "3.10.9"
  }
 },
 "nbformat": 4,
 "nbformat_minor": 5
}
