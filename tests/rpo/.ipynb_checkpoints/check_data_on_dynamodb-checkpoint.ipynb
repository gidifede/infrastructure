{
 "cells": [
  {
   "cell_type": "markdown",
   "id": "72e49938",
   "metadata": {},
   "source": [
    "Import statement"
   ]
  },
  {
   "cell_type": "code",
   "execution_count": 145,
   "id": "70782ec3",
   "metadata": {},
   "outputs": [],
   "source": [
    "import numpy as np\n",
    "import boto3\n",
    "\n",
    "dynamodb = boto3.resource(\"dynamodb\")"
   ]
  },
  {
   "cell_type": "markdown",
   "id": "cd550d29",
   "metadata": {},
   "source": [
    "Count how many row in Event Store"
   ]
  },
  {
   "cell_type": "code",
   "execution_count": 163,
   "id": "b6078f4e",
   "metadata": {},
   "outputs": [
    {
     "data": {
      "text/plain": [
       "0"
      ]
     },
     "execution_count": 163,
     "metadata": {},
     "output_type": "execute_result"
    }
   ],
   "source": [
    "events_table = dynamodb.Table(\"marcostack-product_eventstore\")\n",
    "events_rows = events_table.scan()\n",
    "events_rows[\"Count\"]"
   ]
  },
  {
   "cell_type": "markdown",
   "id": "7d9a0778",
   "metadata": {},
   "source": [
    "Count how many rows in log inspector"
   ]
  },
  {
   "cell_type": "code",
   "execution_count": 168,
   "id": "6040df01",
   "metadata": {
    "scrolled": true
   },
   "outputs": [
    {
     "data": {
      "text/plain": [
       "1"
      ]
     },
     "execution_count": 168,
     "metadata": {},
     "output_type": "execute_result"
    }
   ],
   "source": [
    "table = dynamodb.Table(\"marcostack-product-loginspector\")\n",
    "rows = table.scan()\n",
    "count = rows[\"Count\"]\n",
    "count"
   ]
  },
  {
   "cell_type": "markdown",
   "id": "d201f86c",
   "metadata": {},
   "source": [
    "Aggregate logs by product id and use validator timestamp as start ts and handler as end ts"
   ]
  },
  {
   "cell_type": "code",
   "execution_count": 172,
   "id": "c1a2a26d",
   "metadata": {},
   "outputs": [
    {
     "name": "stdout",
     "output_type": "stream",
     "text": [
      "# of keys 0\n"
     ]
    }
   ],
   "source": [
    "items =rows[\"Items\"]\n",
    "d = {}\n",
    "for i in items:\n",
    "    x = d.get(i[\"request_id\"], {\"start_ts\": None, \"end_ts\": None})\n",
    "    if \"handler\" in i[\"lambda_function\"].lower():\n",
    "        x[\"end_ts\"] = i[\"timestamp\"]\n",
    "    else:\n",
    "        x[\"start_ts\"] = i[\"timestamp\"]\n",
    "    d.update({i[\"request_id\"]:x})\n",
    "\n",
    "d = dict(filter(lambda x:x[1].get(\"end_ts\", None) != None and x[1].get(\"start_ts\", None) != None, d.items()))\n",
    "print(\"# of keys\", len(d.keys()))\n",
    "intervals = [int(x[1][\"end_ts\"]) - int(x[1][\"start_ts\"]) for x in d.items()]"
   ]
  },
  {
   "cell_type": "code",
   "execution_count": 149,
   "id": "12f9c241",
   "metadata": {
    "scrolled": true
   },
   "outputs": [
    {
     "name": "stdout",
     "output_type": "stream",
     "text": [
      "AVG:  2169.904109589041\n",
      "MAX:  3095\n",
      "MIN:  684\n"
     ]
    }
   ],
   "source": [
    "\n",
    "print(\"AVG: \", 0 if len(intervals) == 0 else sum(intervals)/len(intervals))\n",
    "print(\"MAX: \", 0 if not intervals else max(intervals))\n",
    "print(\"MIN: \", 0 if not intervals else min(intervals))"
   ]
  },
  {
   "cell_type": "code",
   "execution_count": 150,
   "id": "119a05de",
   "metadata": {
    "scrolled": true
   },
   "outputs": [
    {
     "name": "stdout",
     "output_type": "stream",
     "text": [
      "percentile 90 2997.6\n",
      "percentile 95 3025.7999999999997\n",
      "percentile 99 3092.12\n"
     ]
    }
   ],
   "source": [
    "a = np.array(intervals)\n",
    "print(\"percentile 90\", np.percentile(a, 90))\n",
    "print(\"percentile 95\", np.percentile(a, 95))\n",
    "print(\"percentile 99\", np.percentile(a, 99))"
   ]
  },
  {
   "cell_type": "markdown",
   "id": "0e8d9ce6",
   "metadata": {},
   "source": [
    "DELETE ALL DATA"
   ]
  },
  {
   "cell_type": "code",
   "execution_count": 170,
   "id": "322248e1",
   "metadata": {},
   "outputs": [
    {
     "name": "stdout",
     "output_type": "stream",
     "text": [
      "Deleting...  1\n"
     ]
    },
    {
     "data": {
      "text/plain": [
       "0"
      ]
     },
     "execution_count": 170,
     "metadata": {},
     "output_type": "execute_result"
    }
   ],
   "source": [
    "print(\"Deleting... \", rows[\"Count\"])\n",
    "with table.batch_writer() as batch:\n",
    "    for each in rows['Items']:\n",
    "        batch.delete_item(\n",
    "                 Key={\n",
    "                 'request_id': each['request_id'],\n",
    "                 'lambda_function': each['lambda_function']\n",
    "                 }\n",
    "             )\n",
    "table.scan()[\"Count\"]"
   ]
  },
  {
   "cell_type": "code",
   "execution_count": 166,
   "id": "9fa6763e",
   "metadata": {
    "scrolled": false
   },
   "outputs": [
    {
     "name": "stdout",
     "output_type": "stream",
     "text": [
      "Deleting...  0\n"
     ]
    },
    {
     "data": {
      "text/plain": [
       "0"
      ]
     },
     "execution_count": 166,
     "metadata": {},
     "output_type": "execute_result"
    }
   ],
   "source": [
    "events_table = dynamodb.Table(\"marcostack-product_eventstore\")\n",
    "events_rows = events_table.scan()\n",
    "print(\"Deleting... \", events_rows[\"Count\"])\n",
    "with events_table.batch_writer() as batch:\n",
    "    for each in events_rows['Items']:\n",
    "        batch.delete_item(\n",
    "                 Key={\n",
    "                 'aggregate_id': each['aggregate_id'],\n",
    "                 'timestamp': each['timestamp']\n",
    "                 }\n",
    "             )\n",
    "        \n",
    "events_table.scan()[\"Count\"]"
   ]
  },
  {
   "cell_type": "code",
   "execution_count": null,
   "id": "a1feab53",
   "metadata": {},
   "outputs": [],
   "source": []
  },
  {
   "cell_type": "code",
   "execution_count": null,
   "id": "80a5bdbb",
   "metadata": {},
   "outputs": [],
   "source": []
  },
  {
   "cell_type": "code",
   "execution_count": null,
   "id": "c0f7ab51",
   "metadata": {},
   "outputs": [],
   "source": []
  },
  {
   "cell_type": "code",
   "execution_count": null,
   "id": "72413f93",
   "metadata": {},
   "outputs": [],
   "source": []
  }
 ],
 "metadata": {
  "kernelspec": {
   "display_name": "Python 3 (ipykernel)",
   "language": "python",
   "name": "python3"
  },
  "language_info": {
   "codemirror_mode": {
    "name": "ipython",
    "version": 3
   },
   "file_extension": ".py",
   "mimetype": "text/x-python",
   "name": "python",
   "nbconvert_exporter": "python",
   "pygments_lexer": "ipython3",
   "version": "3.10.9"
  }
 },
 "nbformat": 4,
 "nbformat_minor": 5
}
